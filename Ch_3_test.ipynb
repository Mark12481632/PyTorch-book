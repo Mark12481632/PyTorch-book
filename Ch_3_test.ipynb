{
 "cells": [
  {
   "cell_type": "code",
   "execution_count": 1,
   "metadata": {},
   "outputs": [],
   "source": [
    "import torch"
   ]
  },
  {
   "cell_type": "code",
   "execution_count": 2,
   "metadata": {},
   "outputs": [
    {
     "data": {
      "text/plain": [
       "tensor([1., 1., 1., 1., 1.])"
      ]
     },
     "execution_count": 2,
     "metadata": {},
     "output_type": "execute_result"
    }
   ],
   "source": [
    "vec = torch.ones(5)\n",
    "vec"
   ]
  },
  {
   "cell_type": "code",
   "execution_count": 3,
   "metadata": {},
   "outputs": [
    {
     "name": "stdout",
     "output_type": "stream",
     "text": [
      "tensor(1.)\n",
      "tensor(100.)\n"
     ]
    }
   ],
   "source": [
    "print(vec[0])\n",
    "vec[0] = 100\n",
    "print(vec[0])"
   ]
  },
  {
   "cell_type": "code",
   "execution_count": 4,
   "metadata": {},
   "outputs": [
    {
     "data": {
      "text/plain": [
       "[100.0, 1.0, 1.0, 1.0, 1.0]"
      ]
     },
     "execution_count": 4,
     "metadata": {},
     "output_type": "execute_result"
    }
   ],
   "source": [
    "ll = [float(vec[i]) for i in range(len(vec))]\n",
    "ll"
   ]
  },
  {
   "cell_type": "code",
   "execution_count": 5,
   "metadata": {},
   "outputs": [
    {
     "name": "stdout",
     "output_type": "stream",
     "text": [
      "tensor([[1, 2, 3],\n",
      "        [3, 2, 1],\n",
      "        [1, 1, 1],\n",
      "        [5, 3, 1]])\n",
      "tensor(3)\n"
     ]
    }
   ],
   "source": [
    "array = torch.tensor([[1,2,3],[3,2,1],[1,1,1],[5,3,1]])\n",
    "print(array)\n",
    "print(array[3,1])"
   ]
  },
  {
   "cell_type": "code",
   "execution_count": 6,
   "metadata": {},
   "outputs": [
    {
     "data": {
      "text/plain": [
       "torch.Size([4, 3])"
      ]
     },
     "execution_count": 6,
     "metadata": {},
     "output_type": "execute_result"
    }
   ],
   "source": [
    "array.shape"
   ]
  },
  {
   "cell_type": "code",
   "execution_count": 7,
   "metadata": {},
   "outputs": [
    {
     "name": "stdout",
     "output_type": "stream",
     "text": [
      "tensor([1, 1, 1])\n",
      "tensor([3, 1, 1, 1])\n",
      "tensor([[1, 3],\n",
      "        [3, 1],\n",
      "        [1, 1],\n",
      "        [5, 1]])\n"
     ]
    }
   ],
   "source": [
    "print(array[2])\n",
    "print(array[:,2])\n",
    "print(array[:,0:3:2])"
   ]
  },
  {
   "cell_type": "code",
   "execution_count": 8,
   "metadata": {},
   "outputs": [
    {
     "name": "stdout",
     "output_type": "stream",
     "text": [
      "tensor([[0., 0., 0.],\n",
      "        [0., 0., 0.]])\n"
     ]
    }
   ],
   "source": [
    "zeros = torch.zeros(2,3)\n",
    "print(zeros)"
   ]
  },
  {
   "cell_type": "code",
   "execution_count": 9,
   "metadata": {},
   "outputs": [
    {
     "name": "stdout",
     "output_type": "stream",
     "text": [
      "tensor([[12, 14],\n",
      "        [14, 12],\n",
      "        [12, 12],\n",
      "        [16, 12]])\n",
      "tensor([[12,  2, 14],\n",
      "        [14,  2, 12],\n",
      "        [12,  1, 12],\n",
      "        [16,  3, 12]])\n"
     ]
    }
   ],
   "source": [
    "array1 = array[:,0:3:2]\n",
    "array1 += 11\n",
    "print(array1)\n",
    "print(array)"
   ]
  },
  {
   "cell_type": "code",
   "execution_count": 10,
   "metadata": {},
   "outputs": [
    {
     "data": {
      "text/plain": [
       "tensor([[[[ 3.5532e-01, -2.6836e-01,  5.6297e-01, -1.6510e+00,  7.4950e-01],\n",
       "          [-1.9709e-01, -6.4019e-01, -2.0212e-01,  7.7068e-01,  3.1249e-01],\n",
       "          [-1.4127e-03,  5.8342e-01,  3.9823e-01, -1.0469e+00,  1.3851e+00],\n",
       "          [ 2.7979e-01, -6.6070e-01,  1.4449e+00, -1.4684e+00, -1.1937e+00],\n",
       "          [-9.1682e-01,  1.2174e-03,  1.0185e+00, -6.9089e-01,  1.4278e+00]],\n",
       "\n",
       "         [[-5.0089e-01, -1.1691e+00,  1.3769e-01,  2.2751e-01, -1.4983e+00],\n",
       "          [ 1.2924e+00, -3.9823e-01,  6.0603e-01, -7.3270e-01,  3.8022e-01],\n",
       "          [-3.4979e-01, -6.6258e-01, -2.4549e-01, -2.1301e-01, -5.7934e-02],\n",
       "          [-9.2061e-02,  1.0110e+00, -1.1721e+00,  1.7906e+00, -3.9353e-01],\n",
       "          [-1.2705e+00,  8.9349e-01, -7.2523e-01, -9.4330e-01, -8.2772e-01]],\n",
       "\n",
       "         [[ 1.2899e+00, -1.5147e-01,  1.1099e+00,  8.7718e-01, -1.6885e-01],\n",
       "          [ 1.0931e+00,  1.6403e-01,  9.6764e-01, -2.7916e-01, -6.8033e-01],\n",
       "          [-4.8866e-01, -1.0113e+00, -3.8291e-01, -8.3643e-01,  9.7086e-01],\n",
       "          [ 1.1988e+00,  7.9977e-02,  1.6043e-01, -1.0441e+00,  2.8041e+00],\n",
       "          [ 1.6355e+00,  1.5714e-01,  1.1691e+00,  4.8054e-01,  8.9136e-01]]],\n",
       "\n",
       "\n",
       "        [[[ 1.1923e-01, -6.2407e-01, -3.9372e-01, -3.8862e-01, -4.3928e-01],\n",
       "          [ 7.1282e-01, -3.6385e-01, -7.9297e-02, -1.1075e+00, -3.3608e-01],\n",
       "          [ 8.6940e-01, -4.4716e-01, -2.0132e-01,  2.5683e-01, -1.0893e+00],\n",
       "          [ 1.5216e+00,  2.2249e+00,  1.1093e+00, -1.3263e-01,  9.8963e-01],\n",
       "          [-1.0328e+00,  7.9507e-02, -1.7519e+00, -5.7721e-01, -6.7334e-01]],\n",
       "\n",
       "         [[-1.4646e+00, -1.8100e+00, -3.9537e-01,  5.2578e-01,  9.0942e-01],\n",
       "          [ 5.1224e-01, -1.2865e+00, -4.5681e-01,  4.9518e-01, -4.1390e-01],\n",
       "          [-4.3107e-01, -1.1405e+00, -7.2537e-01, -6.2915e-01,  1.1218e+00],\n",
       "          [-3.4520e-01, -1.8255e+00, -8.7050e-01,  1.4040e+00, -1.5247e+00],\n",
       "          [-2.5636e-01,  3.0797e-01, -3.1033e-01, -1.3862e+00,  1.3000e-01]],\n",
       "\n",
       "         [[-6.6869e-01, -2.7543e-01, -1.0750e+00,  3.0044e-01, -8.5553e-01],\n",
       "          [-1.3828e+00, -4.2719e-01,  1.8295e-01,  3.7492e-01,  1.2602e+00],\n",
       "          [ 4.8451e-01,  1.5584e-01, -6.2624e-01, -6.8434e-01, -1.4571e+00],\n",
       "          [ 3.0952e-01, -7.3382e-01,  7.0911e-01, -7.7216e-01,  2.0269e-02],\n",
       "          [-4.7764e-01, -6.0817e-01,  3.9595e-01, -6.8371e-01, -2.6382e-01]]]])"
      ]
     },
     "execution_count": 10,
     "metadata": {},
     "output_type": "execute_result"
    }
   ],
   "source": [
    "torch.randn(2, 3, 5, 5)"
   ]
  },
  {
   "cell_type": "code",
   "execution_count": 11,
   "metadata": {},
   "outputs": [
    {
     "name": "stdout",
     "output_type": "stream",
     "text": [
      "tensor([[-0.8401, -0.6758, -0.3493],\n",
      "        [-1.5749,  0.2075,  1.5864],\n",
      "        [-0.5335, -0.6577,  1.2091]])\n",
      "tensor([[2., 3., 5.],\n",
      "        [4., 6., 7.],\n",
      "        [1., 2., 3.]])\n",
      "tensor([[-1.6802, -2.0273, -1.7463],\n",
      "        [-6.2997,  1.2450, 11.1049],\n",
      "        [-0.5335, -1.3153,  3.6273]])\n"
     ]
    }
   ],
   "source": [
    "arr1 = torch.randn(3,3)\n",
    "arr2 = torch.tensor([[2.,3,5], [4,6,7], [1,2,3]])\n",
    "print(arr1)\n",
    "print(arr2)\n",
    "print(arr1 * arr2)"
   ]
  },
  {
   "cell_type": "code",
   "execution_count": 12,
   "metadata": {},
   "outputs": [
    {
     "name": "stdout",
     "output_type": "stream",
     "text": [
      "tensor(3.6667)\n",
      "tensor([2.3333, 3.6667, 5.0000])\n",
      "tensor([3.3333, 5.6667, 2.0000])\n",
      "tensor([1.5275, 2.0817, 2.0000])\n",
      "tensor([1.5275, 1.5275, 1.0000])\n"
     ]
    }
   ],
   "source": [
    "print(arr2.mean())\n",
    "print(arr2.mean(0))\n",
    "print(arr2.mean(1))\n",
    "print(arr2.std(0))\n",
    "print(arr2.std(1))"
   ]
  },
  {
   "cell_type": "code",
   "execution_count": 14,
   "metadata": {},
   "outputs": [
    {
     "data": {
      "text/plain": [
       "tensor([[-0.8401, -0.6758, -0.3493, -1.5749,  0.2075,  1.5864, -0.5335, -0.6577,\n",
       "          1.2091]])"
      ]
     },
     "execution_count": 14,
     "metadata": {},
     "output_type": "execute_result"
    }
   ],
   "source": [
    "arr1.view(1,9)"
   ]
  },
  {
   "cell_type": "code",
   "execution_count": 15,
   "metadata": {},
   "outputs": [
    {
     "data": {
      "text/plain": [
       "tensor([-0.8401, -0.6758, -0.3493, -1.5749,  0.2075,  1.5864, -0.5335, -0.6577,\n",
       "         1.2091])"
      ]
     },
     "execution_count": 15,
     "metadata": {},
     "output_type": "execute_result"
    }
   ],
   "source": [
    "arr1.view(1,9)[0]"
   ]
  },
  {
   "cell_type": "code",
   "execution_count": 19,
   "metadata": {},
   "outputs": [
    {
     "data": {
      "text/plain": [
       "tensor([[-1.6802, -2.0273, -1.7463],\n",
       "        [-6.2997,  1.2450, 11.1049],\n",
       "        [-0.5335, -1.3153,  3.6273]])"
      ]
     },
     "execution_count": 19,
     "metadata": {},
     "output_type": "execute_result"
    }
   ],
   "source": [
    "torch.einsum('ij,ij->ij', arr1, arr2)"
   ]
  },
  {
   "cell_type": "code",
   "execution_count": 20,
   "metadata": {},
   "outputs": [
    {
     "data": {
      "text/plain": [
       "tensor([[-1.6802, -6.2997, -0.5335],\n",
       "        [-2.0273,  1.2450, -1.3153],\n",
       "        [-1.7463, 11.1049,  3.6273]])"
      ]
     },
     "execution_count": 20,
     "metadata": {},
     "output_type": "execute_result"
    }
   ],
   "source": [
    "torch.einsum('ij,ij->ji', arr1, arr2)"
   ]
  },
  {
   "cell_type": "code",
   "execution_count": 24,
   "metadata": {},
   "outputs": [
    {
     "data": {
      "text/plain": [
       "tensor([-5.4538,  6.0502,  1.7786])"
      ]
     },
     "execution_count": 24,
     "metadata": {},
     "output_type": "execute_result"
    }
   ],
   "source": [
    "torch.einsum('ij,ij->i', arr1, arr2)"
   ]
  },
  {
   "cell_type": "code",
   "execution_count": 22,
   "metadata": {},
   "outputs": [
    {
     "name": "stderr",
     "output_type": "stream",
     "text": [
      "C:\\Users\\MarkRoberts\\Anaconda3\\lib\\site-packages\\ipykernel_launcher.py:1: UserWarning: Named tensors and all their associated APIs are an experimental feature and subject to change. Please do not use them for anything important until they are released as stable. (Triggered internally at  ..\\c10/core/TensorImpl.h:840.)\n",
      "  \"\"\"Entry point for launching an IPython kernel.\n"
     ]
    },
    {
     "data": {
      "text/plain": [
       "tensor([1, 2, 3, 4], names=('hello_Mark',))"
      ]
     },
     "execution_count": 22,
     "metadata": {},
     "output_type": "execute_result"
    }
   ],
   "source": [
    "xx1 = torch.tensor([1,2,3,4], names=['hello_Mark'])\n",
    "xx1"
   ]
  },
  {
   "cell_type": "code",
   "execution_count": 26,
   "metadata": {},
   "outputs": [
    {
     "name": "stdout",
     "output_type": "stream",
     "text": [
      "tensor([[ 2.1759,  0.8150,  0.7347],\n",
      "        [-0.6259, -0.5413,  1.7077],\n",
      "        [-0.1938, -0.9820, -3.1117]])\n",
      "tensor([[0.8959, 0.1697, 0.2429],\n",
      "        [0.1416, 0.7839, 0.4807],\n",
      "        [0.6677, 0.6834, 0.2377]])\n"
     ]
    }
   ],
   "source": [
    "# Nornal random N(0,1) and uniform random U[0,1]\n",
    "print(torch.randn(3,3))\n",
    "print(torch.rand(3,3))"
   ]
  },
  {
   "cell_type": "code",
   "execution_count": 31,
   "metadata": {},
   "outputs": [
    {
     "name": "stdout",
     "output_type": "stream",
     "text": [
      "tensor([[-0.8401, -0.6758, -0.3493],\n",
      "        [-1.5749,  0.2075,  1.5864],\n",
      "        [-0.5335, -0.6577,  1.2091]])\n",
      "tensor([[False, False, False],\n",
      "        [False,  True,  True],\n",
      "        [False, False,  True]])\n",
      "torch.Size([3, 3])\n",
      "torch.Size([3])\n"
     ]
    }
   ],
   "source": [
    "print(arr1)\n",
    "print(arr1>0)\n",
    "print((arr1>0).shape)\n",
    "print(arr1[arr1>0].shape)"
   ]
  },
  {
   "cell_type": "code",
   "execution_count": 28,
   "metadata": {},
   "outputs": [
    {
     "data": {
      "text/plain": [
       "tensor([0.2075, 1.5864, 1.2091])"
      ]
     },
     "execution_count": 28,
     "metadata": {},
     "output_type": "execute_result"
    }
   ],
   "source": [
    "arr1[arr1>0]"
   ]
  },
  {
   "cell_type": "code",
   "execution_count": 32,
   "metadata": {},
   "outputs": [
    {
     "data": {
      "text/plain": [
       "torch.float32"
      ]
     },
     "execution_count": 32,
     "metadata": {},
     "output_type": "execute_result"
    }
   ],
   "source": [
    "arr1.dtype"
   ]
  },
  {
   "cell_type": "code",
   "execution_count": 36,
   "metadata": {},
   "outputs": [
    {
     "name": "stdout",
     "output_type": "stream",
     "text": [
      "tensor([[-0.8401, -0.6758, -0.3493],\n",
      "        [-1.5749,  0.2075,  1.5864],\n",
      "        [-0.5335, -0.6577,  1.2091]], dtype=torch.float64)\n",
      "tensor([[-0.8401, -0.6758, -0.3493],\n",
      "        [-1.5749,  0.2075,  1.5864],\n",
      "        [-0.5335, -0.6577,  1.2091]], dtype=torch.float64)\n"
     ]
    }
   ],
   "source": [
    "print(arr1.double())\n",
    "print(arr1.to(torch.double))"
   ]
  },
  {
   "cell_type": "markdown",
   "metadata": {},
   "source": [
    "## ---------------------------------------\n",
    "## Now we look at datasets\n",
    "## ---------------------------------------"
   ]
  },
  {
   "cell_type": "code",
   "execution_count": 39,
   "metadata": {},
   "outputs": [],
   "source": [
    "import torchvision as tv\n",
    "from torchvision import transforms, datasets"
   ]
  },
  {
   "cell_type": "code",
   "execution_count": 40,
   "metadata": {},
   "outputs": [
    {
     "name": "stdout",
     "output_type": "stream",
     "text": [
      "Downloading http://yann.lecun.com/exdb/mnist/train-images-idx3-ubyte.gz to MNIST\\raw\\train-images-idx3-ubyte.gz\n"
     ]
    },
    {
     "data": {
      "application/vnd.jupyter.widget-view+json": {
       "model_id": "ab695447cc7d4bbf89c83b6ea4efd2d6",
       "version_major": 2,
       "version_minor": 0
      },
      "text/plain": [
       "HBox(children=(HTML(value=''), FloatProgress(value=1.0, bar_style='info', layout=Layout(width='20px'), max=1.0…"
      ]
     },
     "metadata": {},
     "output_type": "display_data"
    },
    {
     "name": "stdout",
     "output_type": "stream",
     "text": [
      "Extracting MNIST\\raw\\train-images-idx3-ubyte.gz to MNIST\\raw\n",
      "Downloading http://yann.lecun.com/exdb/mnist/train-labels-idx1-ubyte.gz to MNIST\\raw\\train-labels-idx1-ubyte.gz\n"
     ]
    },
    {
     "data": {
      "application/vnd.jupyter.widget-view+json": {
       "model_id": "92da818800484ab787b38d436f65a83f",
       "version_major": 2,
       "version_minor": 0
      },
      "text/plain": [
       "HBox(children=(HTML(value=''), FloatProgress(value=1.0, bar_style='info', layout=Layout(width='20px'), max=1.0…"
      ]
     },
     "metadata": {},
     "output_type": "display_data"
    },
    {
     "name": "stdout",
     "output_type": "stream",
     "text": [
      "Extracting MNIST\\raw\\train-labels-idx1-ubyte.gz to MNIST\\raw\n",
      "Downloading http://yann.lecun.com/exdb/mnist/t10k-images-idx3-ubyte.gz to MNIST\\raw\\t10k-images-idx3-ubyte.gz\n"
     ]
    },
    {
     "data": {
      "application/vnd.jupyter.widget-view+json": {
       "model_id": "b4b8438bb39f4f4088e106cf0a355705",
       "version_major": 2,
       "version_minor": 0
      },
      "text/plain": [
       "HBox(children=(HTML(value=''), FloatProgress(value=1.0, bar_style='info', layout=Layout(width='20px'), max=1.0…"
      ]
     },
     "metadata": {},
     "output_type": "display_data"
    },
    {
     "name": "stdout",
     "output_type": "stream",
     "text": [
      "Extracting MNIST\\raw\\t10k-images-idx3-ubyte.gz to MNIST\\raw\n",
      "Downloading http://yann.lecun.com/exdb/mnist/t10k-labels-idx1-ubyte.gz to MNIST\\raw\\t10k-labels-idx1-ubyte.gz\n"
     ]
    },
    {
     "data": {
      "application/vnd.jupyter.widget-view+json": {
       "model_id": "8c8dc0e7dba84eecbf0235625473986e",
       "version_major": 2,
       "version_minor": 0
      },
      "text/plain": [
       "HBox(children=(HTML(value=''), FloatProgress(value=1.0, bar_style='info', layout=Layout(width='20px'), max=1.0…"
      ]
     },
     "metadata": {},
     "output_type": "display_data"
    },
    {
     "name": "stdout",
     "output_type": "stream",
     "text": [
      "Extracting MNIST\\raw\\t10k-labels-idx1-ubyte.gz to MNIST\\raw\n",
      "Processing...\n"
     ]
    },
    {
     "name": "stderr",
     "output_type": "stream",
     "text": [
      "C:\\Users\\MarkRoberts\\Anaconda3\\lib\\site-packages\\torchvision\\datasets\\mnist.py:469: UserWarning: The given NumPy array is not writeable, and PyTorch does not support non-writeable tensors. This means you can write to the underlying (supposedly non-writeable) NumPy array using the tensor. You may want to copy the array to protect its data or make it writeable before converting it to a tensor. This type of warning will be suppressed for the rest of this program. (Triggered internally at  ..\\torch\\csrc\\utils\\tensor_numpy.cpp:141.)\n",
      "  return torch.from_numpy(parsed.astype(m[2], copy=False)).view(*s)\n"
     ]
    },
    {
     "name": "stdout",
     "output_type": "stream",
     "text": [
      "Done!\n"
     ]
    }
   ],
   "source": [
    "train = datasets.MNIST(\"\", train=True, download=True, transform = transforms.Compose([transforms.ToTensor()]))\n",
    "test = datasets.MNIST(\"\", train=False, download=True, transform = transforms.Compose([transforms.ToTensor()]))"
   ]
  },
  {
   "cell_type": "code",
   "execution_count": 42,
   "metadata": {},
   "outputs": [],
   "source": [
    "trainset = torch.utils.data.DataLoader(train, batch_size=10, shuffle=True)\n",
    "testset = torch.utils.data.DataLoader(test, batch_size=10, shuffle=True)"
   ]
  },
  {
   "cell_type": "code",
   "execution_count": 44,
   "metadata": {},
   "outputs": [
    {
     "name": "stdout",
     "output_type": "stream",
     "text": [
      "[tensor([[[[0., 0., 0.,  ..., 0., 0., 0.],\n",
      "          [0., 0., 0.,  ..., 0., 0., 0.],\n",
      "          [0., 0., 0.,  ..., 0., 0., 0.],\n",
      "          ...,\n",
      "          [0., 0., 0.,  ..., 0., 0., 0.],\n",
      "          [0., 0., 0.,  ..., 0., 0., 0.],\n",
      "          [0., 0., 0.,  ..., 0., 0., 0.]]],\n",
      "\n",
      "\n",
      "        [[[0., 0., 0.,  ..., 0., 0., 0.],\n",
      "          [0., 0., 0.,  ..., 0., 0., 0.],\n",
      "          [0., 0., 0.,  ..., 0., 0., 0.],\n",
      "          ...,\n",
      "          [0., 0., 0.,  ..., 0., 0., 0.],\n",
      "          [0., 0., 0.,  ..., 0., 0., 0.],\n",
      "          [0., 0., 0.,  ..., 0., 0., 0.]]],\n",
      "\n",
      "\n",
      "        [[[0., 0., 0.,  ..., 0., 0., 0.],\n",
      "          [0., 0., 0.,  ..., 0., 0., 0.],\n",
      "          [0., 0., 0.,  ..., 0., 0., 0.],\n",
      "          ...,\n",
      "          [0., 0., 0.,  ..., 0., 0., 0.],\n",
      "          [0., 0., 0.,  ..., 0., 0., 0.],\n",
      "          [0., 0., 0.,  ..., 0., 0., 0.]]],\n",
      "\n",
      "\n",
      "        ...,\n",
      "\n",
      "\n",
      "        [[[0., 0., 0.,  ..., 0., 0., 0.],\n",
      "          [0., 0., 0.,  ..., 0., 0., 0.],\n",
      "          [0., 0., 0.,  ..., 0., 0., 0.],\n",
      "          ...,\n",
      "          [0., 0., 0.,  ..., 0., 0., 0.],\n",
      "          [0., 0., 0.,  ..., 0., 0., 0.],\n",
      "          [0., 0., 0.,  ..., 0., 0., 0.]]],\n",
      "\n",
      "\n",
      "        [[[0., 0., 0.,  ..., 0., 0., 0.],\n",
      "          [0., 0., 0.,  ..., 0., 0., 0.],\n",
      "          [0., 0., 0.,  ..., 0., 0., 0.],\n",
      "          ...,\n",
      "          [0., 0., 0.,  ..., 0., 0., 0.],\n",
      "          [0., 0., 0.,  ..., 0., 0., 0.],\n",
      "          [0., 0., 0.,  ..., 0., 0., 0.]]],\n",
      "\n",
      "\n",
      "        [[[0., 0., 0.,  ..., 0., 0., 0.],\n",
      "          [0., 0., 0.,  ..., 0., 0., 0.],\n",
      "          [0., 0., 0.,  ..., 0., 0., 0.],\n",
      "          ...,\n",
      "          [0., 0., 0.,  ..., 0., 0., 0.],\n",
      "          [0., 0., 0.,  ..., 0., 0., 0.],\n",
      "          [0., 0., 0.,  ..., 0., 0., 0.]]]]), tensor([4, 5, 9, 1, 0, 2, 3, 0, 6, 8])]\n"
     ]
    }
   ],
   "source": [
    "for data in trainset:\n",
    "    print(data)\n",
    "    break"
   ]
  },
  {
   "cell_type": "code",
   "execution_count": 45,
   "metadata": {},
   "outputs": [
    {
     "name": "stdout",
     "output_type": "stream",
     "text": [
      "tensor(4)\n"
     ]
    }
   ],
   "source": [
    "x, y = data[0][0], data[1][0]"
   ]
  },
  {
   "cell_type": "code",
   "execution_count": 50,
   "metadata": {},
   "outputs": [
    {
     "name": "stdout",
     "output_type": "stream",
     "text": [
      "tensor(4)\n"
     ]
    },
    {
     "data": {
      "text/plain": [
       "<matplotlib.image.AxesImage at 0x210c102d6c8>"
      ]
     },
     "execution_count": 50,
     "metadata": {},
     "output_type": "execute_result"
    },
    {
     "data": {
      "image/png": "[encoded data removed]",
      "text/plain": [
       "<Figure size 432x288 with 1 Axes>"
      ]
     },
     "metadata": {
      "needs_background": "light"
     },
     "output_type": "display_data"
    }
   ],
   "source": [
    "import matplotlib.pyplot as plt\n",
    "\n",
    "print(y)\n",
    "plt.imshow(x.view(28,28))"
   ]
  },
  {
   "cell_type": "code",
   "execution_count": null,
   "metadata": {},
   "outputs": [],
   "source": []
  }
 ],
 "metadata": {
  "kernelspec": {
   "display_name": "Python 3",
   "language": "python",
   "name": "python3"
  },
  "language_info": {
   "codemirror_mode": {
    "name": "ipython",
    "version": 3
   },
   "file_extension": ".py",
   "mimetype": "text/x-python",
   "name": "python",
   "nbconvert_exporter": "python",
   "pygments_lexer": "ipython3",
   "version": "3.7.9"
  }
 },
 "nbformat": 4,
 "nbformat_minor": 4
}
